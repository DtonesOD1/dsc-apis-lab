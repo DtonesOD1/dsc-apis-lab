{
 "cells": [
  {
   "cell_type": "markdown",
   "metadata": {},
   "source": [
    "# APIs - Cumulative Lab\n",
    "\n",
    "\n",
    "## Introduction \n",
    "\n",
    "We've seen how the Yelp API works and how to create basic visualizations using Folium. It's time to put those skills to work in order to create a working map! Taking things a step further, you'll also independently explore how to perform pagination in order to retrieve a full results set from the Yelp API.\n",
    "\n",
    "## Objectives\n",
    "\n",
    "You will be able to: \n",
    "\n",
    "* Practice using functions to organize your code\n",
    "* Use pagination to retrieve all results from an API query\n",
    "* Practice parsing data returned from an API query\n",
    "* Practice interpreting visualizations of a dataset\n",
    "* Create maps using Folium"
   ]
  },
  {
   "cell_type": "markdown",
   "metadata": {},
   "source": [
    "## Your Task: Query Yelp for All Businesses in a Category and Analyze the Results\n",
    "\n",
    "![restaurant counter with pizza](images/restaurant_counter.jpg)\n",
    "\n",
    "Photo by <a href=\"https://unsplash.com/@jordanmadrid?utm_source=unsplash&utm_medium=referral&utm_content=creditCopyText\">Jordan Madrid</a> on <a href=\"/s/photos/pizza-restaurant?utm_source=unsplash&utm_medium=referral&utm_content=creditCopyText\">Unsplash</a>"
   ]
  },
  {
   "cell_type": "markdown",
   "metadata": {},
   "source": [
    "### Overview\n",
    "\n",
    "You've now worked with some API calls, but we have yet to see how to retrieve a more complete dataset in a programmatic manner. In this lab, you will write a query of businesses on Yelp, then use *pagination* to retrieve all possible results for that query. Then you will create a summary of your findings, including a Folium map of the geographic locations of those businesses.\n",
    "\n",
    "### Technical Details\n",
    "\n",
    "Returning to the Yelp API, the [documentation](https://www.yelp.com/developers/documentation/v3/business_search) also provides us details regarding the **API limits**. These often include details about the number of requests a user is allowed to make within a specified time limit and the maximum number of results to be returned. In this case, we are told that any request has a **maximum of 50 results per request** and defaults to 20. Furthermore, any search will be limited to a **total of 1000 results**. To retrieve all 1000 of these results, we would have to page through the results piece by piece, retrieving 50 at a time. Processes such as these are often referred to as pagination.\n",
    "\n",
    "Also, be mindful of the **API** ***rate*** **limits**. You can only make **5000 requests per day** and are also can make requests too fast. Start prototyping small before running a loop that could be faulty. You can also use `time.sleep(n)` to add delays. For more details see https://www.yelp.com/developers/documentation/v3/rate_limiting.\n",
    "\n",
    "In this lab, you will define a search and then paginate over the results to retrieve all of the results. You'll then parse these responses as a list of dictionaries (for further exploration) and create a map using Folium to visualize the results geographically.\n",
    "\n",
    "### Requirements\n",
    "\n",
    "#### 1. Make the Initial Request\n",
    "\n",
    "Start by filling in your API key to make the initial request to the business search API. Investigate the structure of the response you get back and start figuring out how you will extract the relevant information.\n",
    "\n",
    "#### 2. Add Pagination\n",
    "\n",
    "Using loops and functions, collect the maximum number of results for your query from the API.\n",
    "\n",
    "#### 3. Perform Exploratory Analysis\n",
    "\n",
    "Interpret visualizations related to the price range, average rating, and number of reviews for all query results.\n",
    "\n",
    "#### 4. Create a Folium Map\n",
    "\n",
    "Using latitude and longitude data, plot the query results on an interactive map."
   ]
  },
  {
   "cell_type": "markdown",
   "metadata": {},
   "source": [
    "## 1. Make the Initial Request\n",
    "\n",
    "### Querying\n",
    "\n",
    "Start by making an initial request to the Yelp API. Your search must include at least 2 parameters: **term** and **location**. For example, you might search for pizza restaurants in NYC. The term and location is up to you but make the request below.\n",
    "\n",
    "Use the `requests` library ([documentation here](https://requests.readthedocs.io/en/master/user/quickstart/#make-a-request)).\n",
    "\n",
    "You'll also need an API key from Yelp. If you haven't done this already, go to the Yelp [Manage App page](https://www.yelp.com/developers/v3/manage_app) and create a new app (after making an account if you haven't already)."
   ]
  },
  {
   "cell_type": "code",
   "execution_count": 1,
   "metadata": {},
   "outputs": [
    {
     "data": {
      "text/plain": [
       "<Response [200]>"
      ]
     },
     "execution_count": 1,
     "metadata": {},
     "output_type": "execute_result"
    }
   ],
   "source": [
    "# Replace None with appropriate code\n",
    "\n",
    "# Import the requests library\n",
    "import requests\n",
    "\n",
    "# Get this from the \"Manage App\" page. Make sure you set them\n",
    "# back to None before pushing this to GitHub, since otherwise\n",
    "# your credentials will be compromised\n",
    "api_key = \"9YJJj9wjC_4Z9o4oLAMB_WASZkvnHPDN1y9Dh7aT-RTFWo_lDfoOQk7M6M7i-LWHsm7R0A-YNamMKzYlA2Hqv9Pn93mZzMK8yCmDWnLm-bfykOgGvj-cJwvXlqTUYXYx\"\n",
    "\n",
    "# These can be whatever you want! But the solution uses \"pizza\"\n",
    "# and \"New York NY\" if you want to compare your work directly\n",
    "term = \"Pizza\"\n",
    "location = \"New York NY\"\n",
    "\n",
    "# Set up params for request\n",
    "url = \"https://api.yelp.com/v3/businesses/search\"\n",
    "headers = {\n",
    "    \"Authorization\": \"Bearer {}\".format(api_key)\n",
    "}\n",
    "url_params = {\n",
    "    \"term\": term.replace(\" \", \"+\"),\n",
    "    \"location\": location.replace(\" \", \"+\")\n",
    "}\n",
    "\n",
    "# Make the request using requests.get, passing in\n",
    "# url, headers=headers, and params=url_params\n",
    "response =   requests.get(url, headers=headers, params=url_params)\n",
    "\n",
    "# Confirm we got a 200 response\n",
    "response"
   ]
  },
  {
   "cell_type": "code",
   "execution_count": 2,
   "metadata": {},
   "outputs": [
    {
     "data": {
      "text/plain": [
       "dict_keys(['businesses', 'total', 'region'])"
      ]
     },
     "execution_count": 2,
     "metadata": {},
     "output_type": "execute_result"
    }
   ],
   "source": [
    "# Run this cell without changes\n",
    "\n",
    "# Get the response body in JSON format\n",
    "response_json = response.json()\n",
    "# View the keys\n",
    "response_json.keys()"
   ]
  },
  {
   "cell_type": "markdown",
   "metadata": {},
   "source": [
    "### Extracting Data\n",
    "\n",
    "Now, retrieve the value associated with the `'businesses'` key, and inspect its contents."
   ]
  },
  {
   "cell_type": "code",
   "execution_count": 3,
   "metadata": {},
   "outputs": [
    {
     "data": {
      "text/plain": [
       "[{'id': 'zj8Lq1T8KIC5zwFief15jg',\n",
       "  'alias': 'prince-street-pizza-new-york-2',\n",
       "  'name': 'Prince Street Pizza',\n",
       "  'image_url': 'https://s3-media3.fl.yelpcdn.com/bphoto/ZAukOyv530w4KjOHC5YY1w/o.jpg',\n",
       "  'is_closed': False,\n",
       "  'url': 'https://www.yelp.com/biz/prince-street-pizza-new-york-2?adjust_creative=Ie3byafQg0zAt-_2pdaO8w&utm_campaign=yelp_api_v3&utm_medium=api_v3_business_search&utm_source=Ie3byafQg0zAt-_2pdaO8w',\n",
       "  'review_count': 4140,\n",
       "  'categories': [{'alias': 'pizza', 'title': 'Pizza'},\n",
       "   {'alias': 'italian', 'title': 'Italian'}],\n",
       "  'rating': 4.5,\n",
       "  'coordinates': {'latitude': 40.72308755605564,\n",
       "   'longitude': -73.99453001177575},\n",
       "  'transactions': ['delivery', 'pickup'],\n",
       "  'price': '$',\n",
       "  'location': {'address1': '27 Prince St',\n",
       "   'address2': None,\n",
       "   'address3': '',\n",
       "   'city': 'New York',\n",
       "   'zip_code': '10012',\n",
       "   'country': 'US',\n",
       "   'state': 'NY',\n",
       "   'display_address': ['27 Prince St', 'New York, NY 10012']},\n",
       "  'phone': '+12129664100',\n",
       "  'display_phone': '(212) 966-4100',\n",
       "  'distance': 1961.8771417367063},\n",
       " {'id': 'WIhm0W9197f_rRtDziq5qQ',\n",
       "  'alias': 'lombardis-pizza-new-york-4',\n",
       "  'name': \"Lombardi's Pizza\",\n",
       "  'image_url': 'https://s3-media1.fl.yelpcdn.com/bphoto/UZ6V_hobp1KpYDPOHNoCKw/o.jpg',\n",
       "  'is_closed': False,\n",
       "  'url': 'https://www.yelp.com/biz/lombardis-pizza-new-york-4?adjust_creative=Ie3byafQg0zAt-_2pdaO8w&utm_campaign=yelp_api_v3&utm_medium=api_v3_business_search&utm_source=Ie3byafQg0zAt-_2pdaO8w',\n",
       "  'review_count': 6244,\n",
       "  'categories': [{'alias': 'pizza', 'title': 'Pizza'}],\n",
       "  'rating': 4.0,\n",
       "  'coordinates': {'latitude': 40.7215934960083,\n",
       "   'longitude': -73.9955956044561},\n",
       "  'transactions': ['delivery', 'pickup'],\n",
       "  'price': '$$',\n",
       "  'location': {'address1': '32 Spring St',\n",
       "   'address2': '',\n",
       "   'address3': '',\n",
       "   'city': 'New York',\n",
       "   'zip_code': '10012',\n",
       "   'country': 'US',\n",
       "   'state': 'NY',\n",
       "   'display_address': ['32 Spring St', 'New York, NY 10012']},\n",
       "  'phone': '+12129417994',\n",
       "  'display_phone': '(212) 941-7994',\n",
       "  'distance': 1798.9959778083735}]"
      ]
     },
     "execution_count": 3,
     "metadata": {},
     "output_type": "execute_result"
    }
   ],
   "source": [
    "# Replace None with appropriate code\n",
    "\n",
    "# Retrieve the value from response_json\n",
    "businesses = response_json[\"businesses\"]\n",
    "\n",
    "# View the first 2 records\n",
    "businesses[:2]"
   ]
  },
  {
   "cell_type": "markdown",
   "metadata": {},
   "source": [
    "### Preparing Data\n",
    "\n",
    "Write a function `prepare_data` that takes in a list of dictionaries like `businesses` and returns a copy that has been prepared for analysis:\n",
    "\n",
    "1. The `coordinates` key-value pair has been converted into two separate key-value pairs, `latitude` and `longitude`\n",
    "2. All other key-value pairs except for `name`, `review_count`, `rating`, and `price` have been dropped\n",
    "3. All dictionaries missing one of the relevant keys or containing null values have been dropped\n",
    "\n",
    "In other words, the final keys for each dictionary should be `name`, `review_count`, `rating`, `price`, `latitude`, and `longitude`.\n",
    "\n",
    "Complete the function in the cell below:"
   ]
  },
  {
   "cell_type": "code",
   "execution_count": 4,
   "metadata": {},
   "outputs": [
    {
     "data": {
      "text/plain": [
       "[{'name': 'Prince Street Pizza',\n",
       "  'review_count': 4140,\n",
       "  'rating': 4.5,\n",
       "  'price': '$',\n",
       "  'latitude': 40.72308755605564,\n",
       "  'longitude': -73.99453001177575},\n",
       " {'name': \"Lombardi's Pizza\",\n",
       "  'review_count': 6244,\n",
       "  'rating': 4.0,\n",
       "  'price': '$$',\n",
       "  'latitude': 40.7215934960083,\n",
       "  'longitude': -73.9955956044561},\n",
       " {'name': \"Juliana's\",\n",
       "  'review_count': 2388,\n",
       "  'rating': 4.5,\n",
       "  'price': '$$',\n",
       "  'latitude': 40.70274718768062,\n",
       "  'longitude': -73.99343490196397},\n",
       " {'name': 'Rubirosa',\n",
       "  'review_count': 2541,\n",
       "  'rating': 4.5,\n",
       "  'price': '$$',\n",
       "  'latitude': 40.722766,\n",
       "  'longitude': -73.996233},\n",
       " {'name': 'Lucali',\n",
       "  'review_count': 1745,\n",
       "  'rating': 4.0,\n",
       "  'price': '$$',\n",
       "  'latitude': 40.6818,\n",
       "  'longitude': -74.00024}]"
      ]
     },
     "execution_count": 4,
     "metadata": {},
     "output_type": "execute_result"
    }
   ],
   "source": [
    "# Replace None with appropriate code\n",
    "\n",
    "def prepare_data(data_list):\n",
    "    \"\"\"\n",
    "    This function takes in a list of dictionaries and prepares it\n",
    "    for analysis\n",
    "    \"\"\"\n",
    "    \n",
    "    # Make a new list to hold results\n",
    "    results = []\n",
    "    \n",
    "    for business_data in data_list:\n",
    "    \n",
    "        # Make a new dictionary to hold prepared data for this business\n",
    "        prepared_data = {}\n",
    "        \n",
    "        # Extract name, review_count, rating, and price key-value pairs\n",
    "        # from business_data and add to prepared_data\n",
    "        # If a key is not present in business_data, add it to prepared_data\n",
    "        # with an associated value of None\n",
    "        for key in (\"name\", \"review_count\", \"rating\", \"price\"):\n",
    "            prepared_data[key] = business_data.get(key, None)\n",
    "    \n",
    "        # Parse and add latitude and longitude columns\n",
    "        coordinates = business_data[\"coordinates\"]\n",
    "        prepared_data[\"latitude\"] = coordinates[\"latitude\"]\n",
    "        prepared_data[\"longitude\"] = coordinates[\"longitude\"]\n",
    "        \n",
    "        # Add to list if all values are present\n",
    "        if all(prepared_data.values()):\n",
    "            results.append(prepared_data)\n",
    "    \n",
    "    return results\n",
    "    \n",
    "# Test out function\n",
    "prepared_businesses = prepare_data(businesses)\n",
    "prepared_businesses[:5]"
   ]
  },
  {
   "cell_type": "markdown",
   "metadata": {},
   "source": [
    "Check that your function created the correct keys:"
   ]
  },
  {
   "cell_type": "code",
   "execution_count": 5,
   "metadata": {},
   "outputs": [],
   "source": [
    "# Run this cell without changes\n",
    "\n",
    "assert sorted(list(prepared_businesses[0].keys())) == ['latitude', 'longitude', 'name', 'price', 'rating', 'review_count']"
   ]
  },
  {
   "cell_type": "markdown",
   "metadata": {},
   "source": [
    "The following code will differ depending on your query, but we expect there to be 20 businesses in the original list, and potentially fewer in the prepared list (if any of them were missing data):"
   ]
  },
  {
   "cell_type": "code",
   "execution_count": 6,
   "metadata": {},
   "outputs": [
    {
     "name": "stdout",
     "output_type": "stream",
     "text": [
      "Original: 20\n",
      "Prepared: 20\n"
     ]
    }
   ],
   "source": [
    "# Run this cell without changes\n",
    "print(\"Original:\", len(businesses))\n",
    "print(\"Prepared:\", len(prepared_businesses))"
   ]
  },
  {
   "cell_type": "markdown",
   "metadata": {},
   "source": [
    "Great! We will reuse this function once we have retrieved the full dataset."
   ]
  },
  {
   "cell_type": "markdown",
   "metadata": {},
   "source": [
    "## 2. Add Pagination\n",
    "\n",
    "Now that you are able to extract information from one page of the response, let's figure out how to request as many pages as possible.\n",
    "\n",
    "### Determining the Total\n",
    "\n",
    "Depending on the number of total results for your query, you will either retrieve all of the results, or just the first 1000 (if there are more than 1000 total).\n",
    "\n",
    "We can find the total number of results using the `\"total\"` key:"
   ]
  },
  {
   "cell_type": "code",
   "execution_count": 7,
   "metadata": {},
   "outputs": [
    {
     "data": {
      "text/plain": [
       "240"
      ]
     },
     "execution_count": 7,
     "metadata": {},
     "output_type": "execute_result"
    }
   ],
   "source": [
    "# Run this cell without changes\n",
    "response_json[\"total\"]"
   ]
  },
  {
   "cell_type": "markdown",
   "metadata": {},
   "source": [
    "(This is specific to the implementation of the Yelp API. Some APIs will just tell you that there are more pages, or will tell you the number of pages total, rather than the total number of results. If you're not sure, always check the documentation.)\n",
    "\n",
    "In the cell below, assign the variable `total` to either the value shown above (if it is less than 1000), or 1000."
   ]
  },
  {
   "cell_type": "code",
   "execution_count": 8,
   "metadata": {},
   "outputs": [
    {
     "data": {
      "text/plain": [
       "240"
      ]
     },
     "execution_count": 8,
     "metadata": {},
     "output_type": "execute_result"
    }
   ],
   "source": [
    "# Replace None with appropriate code\n",
    "total = response_json[\"total\"]\n",
    "total"
   ]
  },
  {
   "cell_type": "markdown",
   "metadata": {},
   "source": [
    "### Calculating the Offsets\n",
    "\n",
    "The documentation states in the parameters section:\n",
    "\n",
    "> **Name**: `limit`, **Type:** int, **Description:** Optional. Number of business results to return. By default, it will return 20. Maximum is 50.\n",
    "\n",
    "> **Name**: `offset`, **Type:** int, **Description:** Optional. Offset the list of returned business results by this amount.\n",
    "\n",
    "So, to get the most results with the fewest API calls we want to set a limit of 50 every time. If, say, we wanted to get 210 total results, that would mean:\n",
    "\n",
    "1. Offset of `0` (first 50 records)\n",
    "2. Offset of `50` (second 50 records)\n",
    "3. Offset of `100` (third 50 records)\n",
    "4. Offset of `150` (fourth 50 records)\n",
    "5. Offset of `200` (final 10 records)\n",
    "\n",
    "In the cell below, create a function `get_offsets` that takes in a total and returns a list of offsets for that total. You can assume that there is a limit of 50 every time.\n",
    "\n",
    "*Hint: you can use `range` ([documentation here](https://docs.python.org/3.3/library/stdtypes.html?highlight=range#range)) to do this in one line of code. Just make the returned result is a list.*"
   ]
  },
  {
   "cell_type": "code",
   "execution_count": 10,
   "metadata": {},
   "outputs": [],
   "source": [
    "# Replace None with appropriate code\n",
    "def get_offsets(total):\n",
    "    \"\"\"\n",
    "    Get a list of offsets needed to get all pages\n",
    "    of data up until the total\n",
    "    \"\"\"\n",
    "    return list(range(0, total, 50))\n",
    "\n",
    "#tricky"
   ]
  },
  {
   "cell_type": "markdown",
   "metadata": {},
   "source": [
    "Check that your function works below:"
   ]
  },
  {
   "cell_type": "code",
   "execution_count": 11,
   "metadata": {},
   "outputs": [],
   "source": [
    "# Run this cell without changes\n",
    "\n",
    "assert get_offsets(200) == [0, 50, 100, 150]\n",
    "assert get_offsets(210) == [0, 50, 100, 150, 200]"
   ]
  },
  {
   "cell_type": "markdown",
   "metadata": {},
   "source": [
    "### Putting It All Together\n",
    "\n",
    "Recall that the following variable has already been declared for you:"
   ]
  },
  {
   "cell_type": "code",
   "execution_count": 12,
   "metadata": {},
   "outputs": [
    {
     "data": {
      "text/plain": [
       "{'term': 'Pizza', 'location': 'New+York+NY'}"
      ]
     },
     "execution_count": 12,
     "metadata": {},
     "output_type": "execute_result"
    }
   ],
   "source": [
    "# Run this cell without changes\n",
    "url_params"
   ]
  },
  {
   "cell_type": "markdown",
   "metadata": {},
   "source": [
    "We'll go ahead and also specify that the limit should be 50 every time:"
   ]
  },
  {
   "cell_type": "code",
   "execution_count": 13,
   "metadata": {},
   "outputs": [],
   "source": [
    "# Run this cell without changes\n",
    "url_params[\"limit\"] = 50"
   ]
  },
  {
   "cell_type": "markdown",
   "metadata": {},
   "source": [
    "In order to modify the offset, you'll need to add it to `url_params` with the key `\"offset\"` and whatever value is needed.\n",
    "\n",
    "In the cell below, write code that:\n",
    "\n",
    "* Creates an empty list for the full prepared dataset\n",
    "* Loops over all of the offsets from `get_offsets` and makes an API call each time with the specified offset\n",
    "* Calls `prepare_data` to get a cleaned version of the result of each API call\n",
    "* Extends the full prepared dataset list with each query's prepared dataset"
   ]
  },
  {
   "cell_type": "code",
   "execution_count": 16,
   "metadata": {},
   "outputs": [
    {
     "data": {
      "text/plain": [
       "198"
      ]
     },
     "execution_count": 16,
     "metadata": {},
     "output_type": "execute_result"
    }
   ],
   "source": [
    "# Replace None with appropriate code\n",
    "\n",
    "# Create an empty list for the full prepared dataset\n",
    "full_dataset = []\n",
    "\n",
    "for offset in get_offsets(total):\n",
    "    # Add or update the \"offset\" key-value pair in url_params\n",
    "    url_params['offset'] = offset\n",
    "    \n",
    "    # Make the query and get the response\n",
    "    response = requests.get(url, headers=headers, params=url_params)\n",
    "    \n",
    "    # Get the response body in JSON format\n",
    "    response_json = response.json()\n",
    "    \n",
    "    # Get the list of businesses from the response_json\n",
    "    businesses = response_json['businesses']\n",
    "    \n",
    "    # Call the prepare_data function to get a list of processed data\n",
    "    prepared_businesses = prepare_data(businesses)\n",
    "    \n",
    "    # Extend full_dataset with this list (don't append, or you'll get\n",
    "    # a list of lists instead of a flat list)\n",
    "    full_dataset.extend(prepared_businesses)\n",
    "\n",
    "# Check the length of the full dataset. It will be up to `total`,\n",
    "# potentially less if there were missing values\n",
    "len(full_dataset)"
   ]
  },
  {
   "cell_type": "markdown",
   "metadata": {},
   "source": [
    "This code may take up to a few minutes to run.\n",
    "\n",
    "If you get an error trying to get the response body in JSON format, try adding `time.sleep(1)` right after the `requests.get` line, so your code will sleep for 1 second between each API call."
   ]
  },
  {
   "cell_type": "markdown",
   "metadata": {},
   "source": [
    "## 3. Perform Exploratory Analysis\n",
    "\n",
    "Take the businesses from the previous question and do an initial exploratory analysis. We have provided some plots for you to interpret:"
   ]
  },
  {
   "cell_type": "code",
   "execution_count": 17,
   "metadata": {},
   "outputs": [
    {
     "data": {
      "image/png": "[encoded data removed]",
      "text/plain": [
       "<Figure size 1152x360 with 3 Axes>"
      ]
     },
     "metadata": {
      "needs_background": "light"
     },
     "output_type": "display_data"
    }
   ],
   "source": [
    "# Run this cell without changes\n",
    "from collections import Counter\n",
    "import matplotlib.pyplot as plt\n",
    "%matplotlib inline\n",
    "\n",
    "fig, (ax1, ax2, ax3) = plt.subplots(ncols=3, figsize=(16, 5))\n",
    "\n",
    "# Plot distribution of number of reviews\n",
    "all_review_counts = [x[\"review_count\"] for x in full_dataset]\n",
    "ax1.hist(all_review_counts)\n",
    "ax1.set_title(\"Review Count Distribution\")\n",
    "ax1.set_xlabel(\"Number of Reviews\")\n",
    "ax1.set_ylabel(\"Number of Businesses\")\n",
    "\n",
    "# Plot rating distribution\n",
    "all_ratings = [x[\"rating\"] for x in full_dataset]\n",
    "rating_counter = Counter(all_ratings)\n",
    "rating_keys = sorted(rating_counter.keys())\n",
    "ax2.bar(rating_keys, [rating_counter[key] for key in rating_keys])\n",
    "ax2.set_title(\"Rating Distribution\")\n",
    "ax2.set_xlabel(\"Rating\")\n",
    "ax2.set_ylabel(\"Number of Businesses\")\n",
    "\n",
    "# Plot price distribution\n",
    "all_prices = [x[\"price\"].replace(\"$\", r\"\\$\") for x in full_dataset]\n",
    "price_counter = Counter(all_prices)\n",
    "price_keys = sorted(price_counter.keys())\n",
    "ax3.bar(price_keys, [price_counter[key] for key in price_keys])\n",
    "ax3.set_title(\"Price Distribution\")\n",
    "ax3.set_xlabel(\"Price Category\")\n",
    "ax3.set_ylabel(\"Number of Businesses\");"
   ]
  },
  {
   "cell_type": "markdown",
   "metadata": {},
   "source": [
    "Describe the distributions displayed above and interpret them in the context of your query. (Your answer may differ from the solution branch depending on your query.)"
   ]
  },
  {
   "cell_type": "code",
   "execution_count": null,
   "metadata": {},
   "outputs": [],
   "source": [
    "# Replace None with appropriate text\n",
    "\"\"\"\n",
    "The number of reviews is quite skewed to left/lower number of reviews. \n",
    "This could be for a number of reasons;\n",
    "how long the business has been open, \n",
    "or people not feeling their review will be noticed once a business already has a lot of reviews on their yelp page.\n",
    "The rating distribuiton is pretty much right between 4.0-4.5. Which at a glance seems high, \n",
    "but also common when looking at reviews of other businesses. NY is also known for good pizza, which may also speak for high ratings.\n",
    "Lastly the price distribution is on the low end, most likely because there arent many upscale/expensive pizza parlos.\n",
    "\"\"\""
   ]
  },
  {
   "cell_type": "markdown",
   "metadata": {},
   "source": [
    "In the cell below, we also plot the rating distributions by price. In this setup, a price of one dollar sign is \"lower price\" and everything else is \"higher price\"."
   ]
  },
  {
   "cell_type": "code",
   "execution_count": 18,
   "metadata": {},
   "outputs": [
    {
     "data": {
      "image/png": "[encoded data removed]",
      "text/plain": [
       "<Figure size 432x288 with 1 Axes>"
      ]
     },
     "metadata": {
      "needs_background": "light"
     },
     "output_type": "display_data"
    }
   ],
   "source": [
    "# Run this cell without changes\n",
    "\n",
    "higher_price = []\n",
    "lower_price = []\n",
    "for row in full_dataset:\n",
    "    if row[\"price\"] == \"$\":\n",
    "        lower_price.append(row[\"rating\"])\n",
    "    else:\n",
    "        higher_price.append(row[\"rating\"])\n",
    "        \n",
    "fig, ax = plt.subplots()\n",
    "\n",
    "ax.hist([higher_price, lower_price], label=[\"higher price\", \"lower price\"], density=True)\n",
    "\n",
    "ax.legend();"
   ]
  },
  {
   "cell_type": "markdown",
   "metadata": {},
   "source": [
    "Is a higher price associated with a higher rating? (No need for any additional math/statistics, just interpret what you see in the plot.)"
   ]
  },
  {
   "cell_type": "code",
   "execution_count": 19,
   "metadata": {},
   "outputs": [
    {
     "data": {
      "text/plain": [
       "'\\nLooking at this, the answer appears to be yes.\\n'"
      ]
     },
     "execution_count": 19,
     "metadata": {},
     "output_type": "execute_result"
    }
   ],
   "source": [
    "# Replace None with appropriate text\n",
    "\"\"\"\n",
    "Looking at this, the answer appears to be yes.\n",
    "\"\"\""
   ]
  },
  {
   "cell_type": "markdown",
   "metadata": {},
   "source": [
    "Finally, let's look at ratings vs. review counts:"
   ]
  },
  {
   "cell_type": "code",
   "execution_count": 20,
   "metadata": {},
   "outputs": [
    {
     "data": {
      "image/png": "[encoded data removed]",
      "text/plain": [
       "<Figure size 1152x360 with 1 Axes>"
      ]
     },
     "metadata": {
      "needs_background": "light"
     },
     "output_type": "display_data"
    }
   ],
   "source": [
    "# Run this cell without changes\n",
    "fig, ax = plt.subplots(figsize=(16,5))\n",
    "\n",
    "ax.scatter(all_review_counts, all_ratings, alpha=0.2)\n",
    "ax.set_xlabel(\"Number of Reviews\")\n",
    "ax.set_ylabel(\"Rating\")\n",
    "# \"zoom in\" to a subset of review counts\n",
    "ax.set_xlim(left=0, right=1000);"
   ]
  },
  {
   "cell_type": "markdown",
   "metadata": {},
   "source": [
    "Is a higher number of reviews associated with a higher rating?"
   ]
  },
  {
   "cell_type": "code",
   "execution_count": 21,
   "metadata": {},
   "outputs": [
    {
     "data": {
      "text/plain": [
       "'\\nI dont think there is a clear answer looking at this. The highest number of reviews is right around 4.0 which seems to be the most common review.\\n'"
      ]
     },
     "execution_count": 21,
     "metadata": {},
     "output_type": "execute_result"
    }
   ],
   "source": [
    "# Replace None with appropriate text\n",
    "\"\"\"\n",
    "I dont think there is a clear answer looking at this. The highest number of reviews is right around 4.0 which seems to be the most common review.\n",
    "\"\"\""
   ]
  },
  {
   "cell_type": "markdown",
   "metadata": {},
   "source": [
    "## 4. Create a Folium Map\n",
    "\n",
    "Make a map using Folium of the businesses you retrieved. Be sure to also add popups to the markers giving some basic information such as name, rating and price.\n",
    "\n",
    "You can center the map around the latitude and longitude of the first item in `full_dataset`."
   ]
  },
  {
   "cell_type": "code",
   "execution_count": 23,
   "metadata": {},
   "outputs": [
    {
     "data": {
      "text/html": [
       "<div style=\"width:100%;\"><div style=\"position:relative;width:100%;height:0;padding-bottom:60%;\"><span style=\"color:#565656\">Make this Notebook Trusted to load map: File -> Trust Notebook</span><iframe src=\"about:blank\" style=\"position:absolute;width:100%;height:100%;left:0;top:0;border:none !important;\" data-html=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 onload=\"this.contentDocument.open();this.contentDocument.write(atob(this.getAttribute('data-html')));this.contentDocument.close();\" allowfullscreen webkitallowfullscreen mozallowfullscreen></iframe></div></div>"
      ],
      "text/plain": [
       "<folium.folium.Map at 0x7fbdc2a74190>"
      ]
     },
     "execution_count": 23,
     "metadata": {},
     "output_type": "execute_result"
    }
   ],
   "source": [
    "# Replace None with appropriate code\n",
    "\n",
    "# Import the library\n",
    "import folium \n",
    "\n",
    "# Set up center latitude and longitude\n",
    "center_lat = full_dataset[0][\"latitude\"]\n",
    "center_long = full_dataset[0][\"longitude\"]\n",
    "\n",
    "# Initialize map with center lat and long\n",
    "yelp_map = folium.Map([center_lat,center_long],zoom_start =13)\n",
    "\n",
    "# Adjust this limit to see more or fewer businesses\n",
    "limit=100\n",
    "\n",
    "for business in full_dataset[:limit]:\n",
    "    # Extract information about business\n",
    "    lat = business['latitude']\n",
    "    long = business['longitude']\n",
    "    name = business['name']\n",
    "    rating = business['rating']\n",
    "    price = business['price']\n",
    "    details = \"{}\\nPrice: {} Rating:{}\".format(name,price,rating)\n",
    "    \n",
    "    # Create popup with relevant details\n",
    "    popup = folium.Popup(details)\n",
    "    \n",
    "    # Create marker with relevant lat/long and popup\n",
    "    marker = folium.Marker([lat, long], popup=popup)\n",
    "    \n",
    "    marker.add_to(yelp_map)\n",
    "    \n",
    "yelp_map"
   ]
  },
  {
   "cell_type": "markdown",
   "metadata": {},
   "source": [
    "## Summary\n",
    "\n",
    "Nice work! In this lab, you've made multiple API calls to Yelp in order to paginate through a results set, performing some basic exploratory analysis and then creating a nice interactive map to display the results using Folium! Well done!"
   ]
  }
 ],
 "metadata": {
  "kernelspec": {
   "display_name": "Python 3",
   "language": "python",
   "name": "python3"
  },
  "language_info": {
   "codemirror_mode": {
    "name": "ipython",
    "version": 3
   },
   "file_extension": ".py",
   "mimetype": "text/x-python",
   "name": "python",
   "nbconvert_exporter": "python",
   "pygments_lexer": "ipython3",
   "version": "3.8.5"
  },
  "toc": {
   "base_numbering": 1,
   "nav_menu": {},
   "number_sections": true,
   "sideBar": true,
   "skip_h1_title": false,
   "title_cell": "Table of Contents",
   "title_sidebar": "Contents",
   "toc_cell": false,
   "toc_position": {},
   "toc_section_display": true,
   "toc_window_display": false
  }
 },
 "nbformat": 4,
 "nbformat_minor": 2
}
